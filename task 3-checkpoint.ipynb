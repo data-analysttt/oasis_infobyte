{
 "cells": [
  {
   "cell_type": "code",
   "execution_count": 1,
   "id": "e5dffacf-e4b5-449c-ac87-eddcda82637d",
   "metadata": {},
   "outputs": [],
   "source": [
    "import pandas as pd\n",
    "import numpy as np\n",
    "from scipy import stats"
   ]
  },
  {
   "cell_type": "code",
   "execution_count": 2,
   "id": "2c46925d-01d8-4d2a-b91a-b1da400e6d78",
   "metadata": {},
   "outputs": [],
   "source": [
    "df = pd.read_csv('AB_NYC_2019.csv')"
   ]
  },
  {
   "cell_type": "code",
   "execution_count": 3,
   "id": "a4eee3a5-7a93-4f65-bea8-5bec3a6b0932",
   "metadata": {},
   "outputs": [
    {
     "name": "stdout",
     "output_type": "stream",
     "text": [
      "Initial Data Info:\n",
      "<class 'pandas.core.frame.DataFrame'>\n",
      "RangeIndex: 48895 entries, 0 to 48894\n",
      "Data columns (total 16 columns):\n",
      " #   Column                          Non-Null Count  Dtype  \n",
      "---  ------                          --------------  -----  \n",
      " 0   id                              48895 non-null  int64  \n",
      " 1   name                            48879 non-null  object \n",
      " 2   host_id                         48895 non-null  int64  \n",
      " 3   host_name                       48874 non-null  object \n",
      " 4   neighbourhood_group             48895 non-null  object \n",
      " 5   neighbourhood                   48895 non-null  object \n",
      " 6   latitude                        48895 non-null  float64\n",
      " 7   longitude                       48895 non-null  float64\n",
      " 8   room_type                       48895 non-null  object \n",
      " 9   price                           48895 non-null  int64  \n",
      " 10  minimum_nights                  48895 non-null  int64  \n",
      " 11  number_of_reviews               48895 non-null  int64  \n",
      " 12  last_review                     38843 non-null  object \n",
      " 13  reviews_per_month               38843 non-null  float64\n",
      " 14  calculated_host_listings_count  48895 non-null  int64  \n",
      " 15  availability_365                48895 non-null  int64  \n",
      "dtypes: float64(3), int64(7), object(6)\n",
      "memory usage: 6.0+ MB\n"
     ]
    }
   ],
   "source": [
    "print(\"Initial Data Info:\")\n",
    "df.info()"
   ]
  },
  {
   "cell_type": "code",
   "execution_count": 4,
   "id": "8bc3f309-4be1-48d9-b5b2-b74dfcf0d27a",
   "metadata": {},
   "outputs": [
    {
     "name": "stdout",
     "output_type": "stream",
     "text": [
      "\n",
      "Dataset Statistics:\n",
      "                 id       host_id      latitude     longitude         price  \\\n",
      "count  4.889500e+04  4.889500e+04  48895.000000  48895.000000  48895.000000   \n",
      "mean   1.901714e+07  6.762001e+07     40.728949    -73.952170    152.720687   \n",
      "std    1.098311e+07  7.861097e+07      0.054530      0.046157    240.154170   \n",
      "min    2.539000e+03  2.438000e+03     40.499790    -74.244420      0.000000   \n",
      "25%    9.471945e+06  7.822033e+06     40.690100    -73.983070     69.000000   \n",
      "50%    1.967728e+07  3.079382e+07     40.723070    -73.955680    106.000000   \n",
      "75%    2.915218e+07  1.074344e+08     40.763115    -73.936275    175.000000   \n",
      "max    3.648724e+07  2.743213e+08     40.913060    -73.712990  10000.000000   \n",
      "\n",
      "       minimum_nights  number_of_reviews  reviews_per_month  \\\n",
      "count    48895.000000       48895.000000       38843.000000   \n",
      "mean         7.029962          23.274466           1.373221   \n",
      "std         20.510550          44.550582           1.680442   \n",
      "min          1.000000           0.000000           0.010000   \n",
      "25%          1.000000           1.000000           0.190000   \n",
      "50%          3.000000           5.000000           0.720000   \n",
      "75%          5.000000          24.000000           2.020000   \n",
      "max       1250.000000         629.000000          58.500000   \n",
      "\n",
      "       calculated_host_listings_count  availability_365  \n",
      "count                    48895.000000      48895.000000  \n",
      "mean                         7.143982        112.781327  \n",
      "std                         32.952519        131.622289  \n",
      "min                          1.000000          0.000000  \n",
      "25%                          1.000000          0.000000  \n",
      "50%                          1.000000         45.000000  \n",
      "75%                          2.000000        227.000000  \n",
      "max                        327.000000        365.000000  \n"
     ]
    }
   ],
   "source": [
    "print(\"\\nDataset Statistics:\")\n",
    "print(df.describe())"
   ]
  },
  {
   "cell_type": "code",
   "execution_count": 6,
   "id": "6ac0ce36-8f13-48d4-a340-366dffc62aff",
   "metadata": {},
   "outputs": [],
   "source": [
    "df['price'] = pd.to_numeric(df['price'], errors='coerce')\n"
   ]
  },
  {
   "cell_type": "code",
   "execution_count": 7,
   "id": "616d7c7f-7310-4cdd-82f9-2e29ae1777a2",
   "metadata": {},
   "outputs": [
    {
     "name": "stdout",
     "output_type": "stream",
     "text": [
      "\n",
      "Missing Data Summary:\n",
      "id                                    0\n",
      "name                                 16\n",
      "host_id                               0\n",
      "host_name                            21\n",
      "neighbourhood_group                   0\n",
      "neighbourhood                         0\n",
      "latitude                              0\n",
      "longitude                             0\n",
      "room_type                             0\n",
      "price                                 0\n",
      "minimum_nights                        0\n",
      "number_of_reviews                     0\n",
      "last_review                       10052\n",
      "reviews_per_month                 10052\n",
      "calculated_host_listings_count        0\n",
      "availability_365                      0\n",
      "dtype: int64\n"
     ]
    }
   ],
   "source": [
    "print(\"\\nMissing Data Summary:\")\n",
    "print(df.isnull().sum())\n"
   ]
  },
  {
   "cell_type": "code",
   "execution_count": 10,
   "id": "27419f35-9c80-4424-ab03-c0e6b133fb9b",
   "metadata": {},
   "outputs": [],
   "source": [
    "\n",
    "df['price'] = df['price'].fillna(df['price'].mean())\n"
   ]
  },
  {
   "cell_type": "code",
   "execution_count": 12,
   "id": "8b957dfb-556e-403c-9006-3cf0db7ace4a",
   "metadata": {},
   "outputs": [],
   "source": [
    "df.dropna(thresh=len(df.columns) - 1, inplace=True) "
   ]
  },
  {
   "cell_type": "code",
   "execution_count": 13,
   "id": "0249b294-c8e9-44a5-b0cb-17ccbefc41ca",
   "metadata": {},
   "outputs": [
    {
     "name": "stdout",
     "output_type": "stream",
     "text": [
      "\n",
      "Number of Duplicate Rows:\n",
      "0\n"
     ]
    }
   ],
   "source": [
    "print(\"\\nNumber of Duplicate Rows:\")\n",
    "print(df.duplicated().sum())\n"
   ]
  },
  {
   "cell_type": "code",
   "execution_count": 14,
   "id": "d0b47ace-4566-414d-bd91-7204f096aaa2",
   "metadata": {},
   "outputs": [],
   "source": [
    "# Standardizing string columns \n",
    "df['room_type'] = df['room_type'].str.strip().str.lower()\n",
    "df['host_name'] = df['host_name'].str.strip().str.title()  \n"
   ]
  },
  {
   "cell_type": "code",
   "execution_count": 15,
   "id": "3c16c73c-76a9-45bb-a4d8-cddb24a20563",
   "metadata": {},
   "outputs": [],
   "source": [
    "df = df[(df['latitude'].between(-90, 90)) & (df['longitude'].between(-180, 180))]"
   ]
  },
  {
   "cell_type": "code",
   "execution_count": 17,
   "id": "8f6e0c1c-1d61-4106-bdd5-5bf5b884a341",
   "metadata": {},
   "outputs": [],
   "source": [
    "# OUTLIER DETECTION\n",
    "z_scores = stats.zscore(df['price'])\n",
    "df = df[(np.abs(z_scores) < 3)] "
   ]
  },
  {
   "cell_type": "code",
   "execution_count": 18,
   "id": "515633ae-2919-4260-af54-dfa17f5fe622",
   "metadata": {},
   "outputs": [],
   "source": [
    "Q1 = df['price'].quantile(0.25)\n",
    "Q3 = df['price'].quantile(0.75)\n",
    "IQR = Q3 - Q1\n"
   ]
  },
  {
   "cell_type": "code",
   "execution_count": 19,
   "id": "4d9cf4d7-1132-483b-a8c4-0c1607028514",
   "metadata": {},
   "outputs": [],
   "source": [
    "# Filter out outliers beyond 1.5 * IQR\n",
    "df = df[~((df['price'] < (Q1 - 1.5 * IQR)) | (df['price'] > (Q3 + 1.5 * IQR)))]"
   ]
  },
  {
   "cell_type": "code",
   "execution_count": 20,
   "id": "5f4ad68a-a9fa-4b9c-944f-6cfd085175a0",
   "metadata": {},
   "outputs": [
    {
     "name": "stdout",
     "output_type": "stream",
     "text": [
      "\n",
      "Cleaned Data Info:\n",
      "<class 'pandas.core.frame.DataFrame'>\n",
      "Index: 36707 entries, 0 to 48852\n",
      "Data columns (total 16 columns):\n",
      " #   Column                          Non-Null Count  Dtype  \n",
      "---  ------                          --------------  -----  \n",
      " 0   id                              36707 non-null  int64  \n",
      " 1   name                            36701 non-null  object \n",
      " 2   host_id                         36707 non-null  int64  \n",
      " 3   host_name                       36691 non-null  object \n",
      " 4   neighbourhood_group             36707 non-null  object \n",
      " 5   neighbourhood                   36707 non-null  object \n",
      " 6   latitude                        36707 non-null  float64\n",
      " 7   longitude                       36707 non-null  float64\n",
      " 8   room_type                       36707 non-null  object \n",
      " 9   price                           36707 non-null  int64  \n",
      " 10  minimum_nights                  36707 non-null  int64  \n",
      " 11  number_of_reviews               36707 non-null  int64  \n",
      " 12  last_review                     36707 non-null  object \n",
      " 13  reviews_per_month               36707 non-null  float64\n",
      " 14  calculated_host_listings_count  36707 non-null  int64  \n",
      " 15  availability_365                36707 non-null  int64  \n",
      "dtypes: float64(3), int64(7), object(6)\n",
      "memory usage: 4.8+ MB\n"
     ]
    }
   ],
   "source": [
    "# Final inspection of the cleaned dataset\n",
    "print(\"\\nCleaned Data Info:\")\n",
    "df.info()"
   ]
  },
  {
   "cell_type": "code",
   "execution_count": 23,
   "id": "c5f191d2-2ec1-495d-88d4-ca04130a09d8",
   "metadata": {},
   "outputs": [],
   "source": [
    "df.to_csv('cleaned_dataset.csv', index=False)"
   ]
  },
  {
   "cell_type": "code",
   "execution_count": 24,
   "id": "6f1ea8a8-a5e1-45dd-9812-dfb5fee6bc1c",
   "metadata": {},
   "outputs": [
    {
     "name": "stdout",
     "output_type": "stream",
     "text": [
      "Data cleaning process complete! Cleaned data saved to 'cleaned_dataset.csv'.\n"
     ]
    }
   ],
   "source": [
    "print(\"Data cleaning process complete! Cleaned data saved to 'cleaned_dataset.csv'.\")"
   ]
  }
 ],
 "metadata": {
  "kernelspec": {
   "display_name": "Python 3 (ipykernel)",
   "language": "python",
   "name": "python3"
  },
  "language_info": {
   "codemirror_mode": {
    "name": "ipython",
    "version": 3
   },
   "file_extension": ".py",
   "mimetype": "text/x-python",
   "name": "python",
   "nbconvert_exporter": "python",
   "pygments_lexer": "ipython3",
   "version": "3.12.4"
  }
 },
 "nbformat": 4,
 "nbformat_minor": 5
}
